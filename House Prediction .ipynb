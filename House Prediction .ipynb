{
 "cells": [
  {
   "cell_type": "markdown",
   "id": "2b194bd5",
   "metadata": {},
   "source": [
    "### 1. Business Problem Understanding\n",
    "\n",
    "Here we have predict the price of the house based on the facatlites of that the house is having"
   ]
  },
  {
   "cell_type": "code",
   "execution_count": null,
   "id": "8bf40de7",
   "metadata": {},
   "outputs": [],
   "source": [
    "import pandas as pd\n",
    "import numpy as np\n",
    "import seaborn as sns\n",
    "import matplotlib.pyplot as plt\n",
    "\n",
    "import warnings\n",
    "warnings.filterwarnings('ignore')"
   ]
  },
  {
   "cell_type": "code",
   "execution_count": null,
   "id": "af87bc31",
   "metadata": {},
   "outputs": [],
   "source": [
    "data = pd.read_csv('train.csv')\n",
    "data"
   ]
  },
  {
   "cell_type": "markdown",
   "id": "348e84fb",
   "metadata": {},
   "source": [
    "### 2. Data Understanding"
   ]
  },
  {
   "cell_type": "code",
   "execution_count": null,
   "id": "28787446",
   "metadata": {},
   "outputs": [],
   "source": [
    "data.info()"
   ]
  },
  {
   "cell_type": "code",
   "execution_count": null,
   "id": "08d01f4d",
   "metadata": {},
   "outputs": [],
   "source": [
    "dict_types = dict(data.dtypes)\n",
    "dict_types\n",
    "continous = []\n",
    "count = []\n",
    "categorical = []\n",
    "for name,type in dict_types.items():\n",
    "    if type == str('float64'):\n",
    "        continous.append(name)\n",
    "    elif type == str('int64'):\n",
    "        count.append(name)\n",
    "    else:\n",
    "        categorical.append(name)\n",
    "print('The Continous variables are:  ',continous)\n",
    "print('\\nThe Count variables are:  ',count)\n",
    "print('\\nThe Categorical variables are:  ',categorical)\n",
    "print(len(continous),len(count),len(categorical))\n"
   ]
  },
  {
   "cell_type": "code",
   "execution_count": null,
   "id": "905f7b29",
   "metadata": {},
   "outputs": [],
   "source": [
    "numerical_data = data.drop(categorical,axis =1)\n",
    "numerical_data"
   ]
  },
  {
   "cell_type": "markdown",
   "id": "6531af09",
   "metadata": {},
   "source": [
    "### 3. Data Preprocessing"
   ]
  },
  {
   "cell_type": "code",
   "execution_count": null,
   "id": "50f79047",
   "metadata": {},
   "outputs": [],
   "source": [
    "numerical_data.isnull().sum()"
   ]
  },
  {
   "cell_type": "code",
   "execution_count": null,
   "id": "0ef149f2",
   "metadata": {
    "scrolled": true
   },
   "outputs": [],
   "source": [
    "data[categorical].isnull().sum()"
   ]
  },
  {
   "cell_type": "code",
   "execution_count": null,
   "id": "d34ea010",
   "metadata": {},
   "outputs": [],
   "source": [
    "numerical_data.drop('Id',axis =1,inplace = True)\n",
    "numerical_data.corr()"
   ]
  },
  {
   "cell_type": "code",
   "execution_count": null,
   "id": "14f0cdf3",
   "metadata": {},
   "outputs": [],
   "source": [
    "data['Fence'].unique()"
   ]
  },
  {
   "cell_type": "code",
   "execution_count": null,
   "id": "b77b8e79",
   "metadata": {},
   "outputs": [],
   "source": [
    "data.drop('Fence',axis = 1 ,inplace = True)\n",
    "data.drop('PoolQC',axis = 1 ,inplace = True)\n",
    "data.drop('MiscFeature',axis = 1 ,inplace = True)\n",
    "data.drop('Alley',axis = 1 ,inplace = True)\n",
    "data.drop('Id',axis =1,inplace = True)"
   ]
  },
  {
   "cell_type": "code",
   "execution_count": null,
   "id": "b0e77fcf",
   "metadata": {},
   "outputs": [],
   "source": [
    "for i in numerical_data:\n",
    "    print('The variable name is:',i)\n",
    "    sns.boxplot(data[i])\n",
    "    plt.show()"
   ]
  },
  {
   "cell_type": "code",
   "execution_count": null,
   "id": "b16b756c",
   "metadata": {},
   "outputs": [],
   "source": [
    "null = []\n",
    "for i in numerical_data:\n",
    "    st = data[i].isnull().sum()\n",
    "    if(st > 0):\n",
    "        null.append(i)\n",
    "null"
   ]
  },
  {
   "cell_type": "code",
   "execution_count": null,
   "id": "d7f81eed",
   "metadata": {},
   "outputs": [],
   "source": [
    "data.isnull().sum()"
   ]
  },
  {
   "cell_type": "code",
   "execution_count": null,
   "id": "c0cb33b4",
   "metadata": {},
   "outputs": [],
   "source": [
    "data['LotFrontage'].fillna(data['LotFrontage'].mean(),inplace = True)\n",
    "data['MasVnrArea'].fillna(data['MasVnrArea'].mean(),inplace = True)\n",
    "data['GarageYrBlt'].fillna(data['GarageYrBlt'].mean(),inplace = True)"
   ]
  },
  {
   "cell_type": "code",
   "execution_count": null,
   "id": "382604b8",
   "metadata": {},
   "outputs": [],
   "source": [
    "data['BsmtQual'].fillna(data['BsmtQual'].mode()[0],inplace = True)    \n",
    "data['BsmtCond'].fillna(data['BsmtCond'].mode()[0],inplace = True) \n",
    "data['BsmtExposure'].fillna(data['BsmtExposure'].mode()[0],inplace = True)\n",
    "data['BsmtFinType1'].fillna(data['BsmtFinType1'].mode()[0],inplace = True)\n",
    "data['BsmtFinType2'].fillna(data['BsmtFinType2'].mode()[0],inplace = True)\n",
    "data['MasVnrType'].fillna(data['MasVnrType'].mode()[0],inplace = True)\n",
    "data['GarageType'].fillna(data['GarageType'].mode()[0],inplace = True)\n",
    "data['GarageFinish'].fillna(data['GarageFinish'].mode()[0],inplace = True)       \n",
    "data['GarageQual'].fillna(data['GarageQual'].mode()[0],inplace = True)       \n",
    "data['GarageCond'].fillna(data['GarageCond'].mode()[0],inplace = True)\n",
    "data['Electrical'].fillna(data['Electrical'].mode()[0],inplace = True)\n",
    "data['FireplaceQu'].fillna(data['FireplaceQu'].mode()[0],inplace = True)"
   ]
  },
  {
   "cell_type": "code",
   "execution_count": null,
   "id": "3e1dd6df",
   "metadata": {},
   "outputs": [],
   "source": [
    "dict_types = dict(data.dtypes)\n",
    "dict_types\n",
    "continous = []\n",
    "count = []\n",
    "categorical = []\n",
    "for name,type in dict_types.items():\n",
    "    if type == str('float64'):\n",
    "        continous.append(name)\n",
    "    elif type == str('int64'):\n",
    "        count.append(name)\n",
    "    else:\n",
    "        categorical.append(name)\n",
    "print('The Continous variables are:  ',continous)\n",
    "print('\\nThe Count variables are:  ',count)\n",
    "print('\\nThe Categorical variables are:  ',categorical)\n",
    "print(len(continous),len(count),len(categorical))\n",
    "\n"
   ]
  },
  {
   "cell_type": "markdown",
   "id": "d9e234cf",
   "metadata": {},
   "source": [
    "##### Encoding the data"
   ]
  },
  {
   "cell_type": "code",
   "execution_count": null,
   "id": "f2e4ccab",
   "metadata": {},
   "outputs": [],
   "source": [
    "\"\"\"X = pd.get_dummies(data,drop_first = True)\n",
    "X\"\"\"\n",
    "\n",
    "from sklearn.preprocessing import OneHotEncoder\n",
    "enc = OneHotEncoder(drop='first')\n",
    "cat = enc.fit_transform(data[categorical])\n",
    "data.drop(categorical,axis=1,inplace = True)\n",
    "cat_df = pd.DataFrame(cat.toarray(), columns=enc.get_feature_names_out(categorical))\n",
    "data = pd.concat([data, cat_df], axis='columns')\n"
   ]
  },
  {
   "cell_type": "code",
   "execution_count": null,
   "id": "57a83c5c",
   "metadata": {},
   "outputs": [],
   "source": [
    "X = data.drop('SalePrice',axis =1)\n",
    "y = data['SalePrice']"
   ]
  },
  {
   "cell_type": "code",
   "execution_count": null,
   "id": "39c68821",
   "metadata": {},
   "outputs": [],
   "source": [
    "X"
   ]
  },
  {
   "cell_type": "code",
   "execution_count": null,
   "id": "562abc00",
   "metadata": {},
   "outputs": [],
   "source": [
    "from sklearn.model_selection import train_test_split\n",
    "X_train,X_test,y_train,y_test = train_test_split(X,y,train_size = 0.8,random_state = 12)"
   ]
  },
  {
   "cell_type": "code",
   "execution_count": null,
   "id": "13a4859f",
   "metadata": {},
   "outputs": [],
   "source": [
    "from sklearn.preprocessing import StandardScaler\n",
    "sc_model = StandardScaler()\n",
    "X_train= sc_model.fit_transform(X_train)\n",
    "X_test = sc_model.transform(X_test)"
   ]
  },
  {
   "cell_type": "code",
   "execution_count": null,
   "id": "7f8c07d5",
   "metadata": {},
   "outputs": [],
   "source": [
    "from sklearn.decomposition import PCA\n",
    "pca_model = PCA(n_components=0.97)\n",
    "X_train_pca = pca_model.fit_transform(X_train)\n",
    "X_test_pca = pca_model.transform(X_test)"
   ]
  },
  {
   "cell_type": "code",
   "execution_count": null,
   "id": "163149da",
   "metadata": {},
   "outputs": [],
   "source": [
    "print(X_train.shape,X_train.shape)"
   ]
  },
  {
   "cell_type": "code",
   "execution_count": null,
   "id": "ccee6ca4",
   "metadata": {},
   "outputs": [],
   "source": [
    "# Modelling\n",
    "from sklearn.linear_model import LinearRegression\n",
    "lr_model = LinearRegression()\n",
    "lr_model.fit(X_train_pca,y_train)\n",
    "\n",
    "# Predicting\n",
    "ypred_train = lr_model.predict(X_train_pca)\n",
    "ypred_test = lr_model.predict(X_test_pca)\n",
    "\n",
    "# Evaluation\n",
    "from sklearn.metrics import r2_score\n",
    "from sklearn.metrics import mean_squared_error\n",
    "from sklearn.model_selection import cross_val_score\n",
    "print(\"Rooted Mean Squared Error:\",np.sqrt(mean_squared_error(y_test,ypred_test)))\n",
    "print(\"Train Score:\",r2_score(y_train,ypred_train))\n",
    "print(\"Test Score:\",r2_score(y_test,ypred_test))\n",
    "##print(\"Cross Validation Score:\",cross_val_score(lr_model,X,y,cv = 5))"
   ]
  },
  {
   "cell_type": "markdown",
   "id": "71b385c7",
   "metadata": {},
   "source": [
    "##### Checking The Cheeklist for the Multiple Linear Regression Model"
   ]
  },
  {
   "cell_type": "markdown",
   "id": "e74ef060",
   "metadata": {},
   "source": [
    "#### 1. Linearity of Errors"
   ]
  },
  {
   "cell_type": "code",
   "execution_count": null,
   "id": "875c0ec7",
   "metadata": {},
   "outputs": [],
   "source": [
    "total_res = y_test - ypred_test"
   ]
  },
  {
   "cell_type": "code",
   "execution_count": null,
   "id": "c62a7e0e",
   "metadata": {},
   "outputs": [],
   "source": [
    "plt.scatter(y_test,total_res)\n",
    "plt.xlabel('Observed variable')\n",
    "plt.ylabel('Fitted Variable')\n",
    "plt.show()"
   ]
  },
  {
   "cell_type": "code",
   "execution_count": null,
   "id": "36e48155",
   "metadata": {},
   "outputs": [],
   "source": [
    "sns.displot(total_res,kde = True,bins = 15)"
   ]
  },
  {
   "cell_type": "code",
   "execution_count": null,
   "id": "997a2d24",
   "metadata": {},
   "outputs": [],
   "source": [
    "plt.scatter(ypred_test,total_res,c = 'g')\n",
    "plt.axhline(c='blue')\n",
    "#plt.axvline(x=15000,c='black')\n",
    "plt.xlabel('fittedvalues')\n",
    "plt.ylabel('resduals')\n",
    "plt.show()\n"
   ]
  },
  {
   "cell_type": "code",
   "execution_count": null,
   "id": "1a62ec17",
   "metadata": {},
   "outputs": [],
   "source": [
    "import statsmodels.formula.api as smf\n",
    "model1 = smf.ols('y~X',data = data).fit()\n",
    "model1.summary()\n"
   ]
  },
  {
   "cell_type": "markdown",
   "id": "ca7c7b0a",
   "metadata": {},
   "source": [
    "#### 2. Polynomial Regression"
   ]
  },
  {
   "cell_type": "code",
   "execution_count": null,
   "id": "664d4b9c",
   "metadata": {},
   "outputs": [],
   "source": [
    "from sklearn.preprocessing import PolynomialFeatures\n",
    "\n",
    "r2_train = []\n",
    "r2_test = []\n",
    "\n",
    "for i in range(1,3):\n",
    "    polynomial_conversition = PolynomialFeatures(degree = i,include_bias = False)\n",
    "    x_trainpoly = pd.DataFrame(polynomial_conversition.fit_transform(X_train_pca))\n",
    "    x_testploy = pd.DataFrame(polynomial_conversition.fit_transform(X_test_pca))\n",
    "\n",
    "    model = LinearRegression()\n",
    "    model.fit(x_trainpoly,y_train)\n",
    "\n",
    "    ypred = model.predict(x_testploy)\n",
    "   \n",
    "\n",
    "    r2_train.append(model.score(x_trainpoly,y_train))\n",
    "    r2_test.append(model.score(x_testploy,y_test))\n",
    "\n",
    "    print(i,r2_train,'\\n')\n",
    "    print(i,r2_test,'\\n')\n",
    "    \n",
    "\n"
   ]
  },
  {
   "cell_type": "markdown",
   "id": "b58f2674",
   "metadata": {},
   "source": [
    "#### 2. Polynomial Regression"
   ]
  },
  {
   "cell_type": "code",
   "execution_count": null,
   "id": "d10a8cc3",
   "metadata": {},
   "outputs": [],
   "source": [
    "# Polynomial Regression after we get the degree\n",
    "\n",
    "from sklearn.preprocessing import PolynomialFeatures\n",
    "from sklearn.linear_model import LinearRegression\n",
    "from sklearn.metrics import r2_score\n",
    "\n",
    "# Assuming X_train_pca and X_test_pca are your PCA transformed data\n",
    "polynomial_conversion = PolynomialFeatures(degree=1, include_bias=False)\n",
    "X_train_polynomial = polynomial_conversion.fit_transform(X_train_pca)\n",
    "X_test_polynomial = polynomial_conversion.transform(X_test_pca)  # Use transform instead of fit_transform for test data\n",
    "\n",
    "poly_model = LinearRegression()\n",
    "poly_model.fit(X_train_polynomial, y_train)\n",
    "\n",
    "ypred_train = poly_model.predict(X_train_polynomial)\n",
    "ypred_test = poly_model.predict(X_test_polynomial)\n",
    "\n",
    "print(\"Train Score:\", r2_score(y_train, ypred_train))\n",
    "print('Test Score:', r2_score(y_test, ypred_test))"
   ]
  },
  {
   "cell_type": "markdown",
   "id": "4a406c4e",
   "metadata": {},
   "source": [
    "#### 3. Lasso Regulization"
   ]
  },
  {
   "cell_type": "code",
   "execution_count": null,
   "id": "a2a69509",
   "metadata": {},
   "outputs": [],
   "source": [
    "from sklearn.linear_model import Lasso\n",
    "lasso_model = Lasso(alpha=548)\n",
    "lasso_model.fit(X_train_pca,y_train)\n",
    "\n",
    "print('Coefficiet:',lasso_model.coef_,'\\n','Intercept',lasso_model.intercept_)\n",
    "\n",
    "lasso_coef = lasso_model.coef_\n",
    "\n",
    "ypred_train = lasso_model.predict(X_train_pca)\n",
    "ypred_test = lasso_model.predict(X_test_pca)\n",
    "\n",
    "print(\"Train Score:\", r2_score(y_train, ypred_train))\n",
    "print('Test Score:', r2_score(y_test, ypred_test))\n"
   ]
  },
  {
   "cell_type": "code",
   "execution_count": null,
   "id": "848c35d6",
   "metadata": {},
   "outputs": [],
   "source": [
    "d = dict()\n",
    "for i in range(0,len(lasso_coef)):\n",
    "    if lasso_coef[i] != 0:\n",
    "        d[i] = lasso_coef[i]  \n",
    "\n",
    "non_zero_indices = list(d.keys())\n",
    "\n",
    "X_train_selected = X_train_pca[:, non_zero_indices]\n",
    "\n",
    "X_test_selected = X_test_pca[:, non_zero_indices]\n",
    "\n",
    "lasso_model_selected = Lasso(alpha=855)\n",
    "lasso_model_selected.fit(X_train_selected, y_train)\n",
    "\n",
    "ypred_train_selected = lasso_model_selected.predict(X_train_selected)\n",
    "ypred_test_selected = lasso_model_selected.predict(X_test_selected)\n",
    "\n",
    "train_score_selected = r2_score(y_train, ypred_train_selected)\n",
    "test_score_selected = r2_score(y_test, ypred_test_selected)\n",
    "\n",
    "print(\"Train Score (selected features):\", train_score_selected)\n",
    "print(\"Test Score (selected features):\", test_score_selected)"
   ]
  },
  {
   "cell_type": "code",
   "execution_count": null,
   "id": "02981ae2",
   "metadata": {},
   "outputs": [],
   "source": [
    "from sklearn.model_selection import GridSearchCV\n",
    "\n",
    "estimator = Lasso()\n",
    "param_grid = {\"alpha\":list(range(500,1000))}\n",
    "\n",
    "grid_model = GridSearchCV(estimator,param_grid,cv = 5,scoring = 'r2')\n",
    "grid_model.fit(X_train_selected,y_train)\n",
    "grid_model.best_params_"
   ]
  },
  {
   "cell_type": "markdown",
   "id": "e20c29bd",
   "metadata": {},
   "source": [
    "#### 4. Ridge Regression"
   ]
  },
  {
   "cell_type": "code",
   "execution_count": null,
   "id": "9e1bf656",
   "metadata": {},
   "outputs": [],
   "source": [
    "from sklearn.linear_model import Ridge\n",
    "ridge_model = Ridge(alpha = 500)\n",
    "ridge_model.fit(X_train_pca,y_train)\n",
    "\n",
    "print('Coefficiet:',ridge_model.coef_,'\\n','Intercept',ridge_model.intercept_)\n",
    "\n",
    "ypred_train = ridge_model.predict(X_train_pca)\n",
    "ypred_test = ridge_model.predict(X_test_pca)\n",
    "\n",
    "print(\"Train Score:\", r2_score(y_train, ypred_train))\n",
    "print('Test Score:', r2_score(y_test, ypred_test))\n"
   ]
  },
  {
   "cell_type": "code",
   "execution_count": null,
   "id": "7a5d06be",
   "metadata": {},
   "outputs": [],
   "source": [
    "from sklearn.model_selection import GridSearchCV\n",
    "\n",
    "estimator = Ridge()\n",
    "param_grid = {\"alpha\":list(range(500,1000))}\n",
    "\n",
    "grid_model = GridSearchCV(estimator,param_grid,cv = 5,scoring = 'r2')\n",
    "grid_model.fit(X_train_pca,y_train)\n",
    "grid_model.best_params_"
   ]
  },
  {
   "cell_type": "markdown",
   "id": "631d76d6",
   "metadata": {},
   "source": [
    "#### 5. Elastic Net Regression"
   ]
  },
  {
   "cell_type": "code",
   "execution_count": null,
   "id": "922cc30d",
   "metadata": {},
   "outputs": [],
   "source": [
    "from sklearn.linear_model import ElasticNet\n",
    "elastic_model = ElasticNet(alpha = 5,l1_ratio = 0.9)\n",
    "elastic_model.fit(X_train_pca,y_train)\n",
    "\n",
    "print('Coefficiet:',elastic_model.coef_,'\\n','Intercept',elastic_model.intercept_)\n",
    "\n",
    "ypred_train = elastic_model.predict(X_train_pca)\n",
    "ypred_test = elastic_model.predict(X_test_pca)\n",
    "\n",
    "print(\"Train Score:\", r2_score(y_train, ypred_train))\n",
    "print('Test Score:', r2_score(y_test, ypred_test))\n"
   ]
  },
  {
   "cell_type": "code",
   "execution_count": null,
   "id": "16b66a1d",
   "metadata": {},
   "outputs": [],
   "source": [
    "from sklearn.model_selection import GridSearchCV\n",
    "\n",
    "estimator = ElasticNet()\n",
    "\n",
    "param_grid = {'alpha' :list(range(1,10)),'l1_ratio': [0,0.1,0.2,0.3,0.4,0.5,0.6,0.7,0.8,0.9,1] }\n",
    "\n",
    "grid_model = GridSearchCV(estimator,param_grid,cv = 5,scoring = 'r2')\n",
    "grid_model.fit(X_train_pca,y_train)\n",
    "grid_model.best_params_"
   ]
  },
  {
   "cell_type": "markdown",
   "id": "954905c4",
   "metadata": {},
   "source": [
    "#### Decesion Tree"
   ]
  },
  {
   "cell_type": "code",
   "execution_count": null,
   "id": "3d9515b8",
   "metadata": {},
   "outputs": [],
   "source": [
    "# 6 DecisionTree\n",
    "# Modeling\n",
    "from sklearn.tree import DecisionTreeRegressor\n",
    "decision_model = DecisionTreeRegressor(random_state = 5)\n",
    "decision_model.fit(X_train_pca,y_train)\n",
    "\n",
    "# Prediction\n",
    "ypred_train = decision_model.predict(X_train_pca)\n",
    "ypred_test = decision_model.predict(X_test_pca)\n",
    "\n",
    "# Accuracy and score\n",
    "from sklearn.metrics import r2_score\n",
    "from sklearn.model_selection import cross_val_score\n",
    "print(\"Train Accuracy: \",r2_score(y_train,ypred_train))\n",
    "print(\"Test Accuracy: \",r2_score(y_test,ypred_test))\n",
    "print('Cross Validation Score: ',cross_val_score(decision_model,X,y,cv = 5).mean())"
   ]
  },
  {
   "cell_type": "code",
   "execution_count": null,
   "id": "99f82b2c",
   "metadata": {},
   "outputs": [],
   "source": [
    "# 7. RandomForest\n",
    "# Modelling\n",
    "from sklearn.ensemble import RandomForestRegressor\n",
    "random_model = RandomForestRegressor(random_state = 1)\n",
    "random_model.fit(X_train_pca,y_train)\n",
    "\n",
    "# predicting\n",
    "ypred_train = random_model.predict(X_train_pca)\n",
    "ypred_test = random_model.predict(X_test_pca)\n",
    "\n",
    "# Accuracy Score\n",
    "from sklearn.model_selection import cross_val_score\n",
    "from sklearn.metrics import r2_score\n",
    "print(\"Train accuracy = \",r2_score(y_train,ypred_train))\n",
    "print(\"Test accuracy = \",r2_score(y_test,ypred_test))\n",
    "print('Cross Validation Score:',cross_val_score(random_model,X,y,cv = 5).mean())"
   ]
  },
  {
   "cell_type": "code",
   "execution_count": null,
   "id": "4b2eab6a",
   "metadata": {},
   "outputs": [],
   "source": [
    "## 8. GradientBoosting\n",
    "# import the model\n",
    "from sklearn.ensemble import GradientBoostingRegressor\n",
    "gradient_model = GradientBoostingRegressor()\n",
    "gradient_model.fit(X_train_pca,y_train)\n",
    "\n",
    "# Prediction\n",
    "ypred_train = gradient_model.predict(X_train_pca)\n",
    "ypred_test = gradient_model.predict(X_test_pca)\n",
    "\n",
    "#Evalaution\n",
    "from sklearn.metrics import r2_score\n",
    "from sklearn.model_selection import cross_val_score\n",
    "print('Train Score:',r2_score(y_train,ypred_train))\n",
    "print('Test Score:',r2_score(y_test,ypred_test))\n",
    "print('Cross Validation Score:',cross_val_score(gradient_model,X,y,cv =5).mean())"
   ]
  },
  {
   "cell_type": "code",
   "execution_count": null,
   "id": "7f9e0847",
   "metadata": {},
   "outputs": [],
   "source": [
    "## 9. XGBoosting\n",
    "from xgboost import XGBRegressor\n",
    "xgboost_model = XGBRegressor()\n",
    "xgboost_model.fit(X_train_pca,y_train)\n",
    "\n",
    "# prediction\n",
    "ypred_train = xgboost_model.predict(X_train_pca) \n",
    "ypred_test = xgboost_model.predict(X_test_pca)\n",
    "\n",
    "# Evoluation\n",
    "from sklearn.metrics import r2_score\n",
    "from sklearn.model_selection import cross_val_score\n",
    "print('Train Score:',r2_score(y_train,ypred_train))\n",
    "print('Test Score:',r2_score(y_test,ypred_test))\n",
    "print('Cross validation score:',cross_val_score(xgboost_model,X,y,cv = 5).mean())"
   ]
  },
  {
   "cell_type": "markdown",
   "id": "56003b83",
   "metadata": {},
   "source": [
    "**This the test data that which we want to predict**"
   ]
  },
  {
   "cell_type": "code",
   "execution_count": null,
   "id": "e441522f",
   "metadata": {},
   "outputs": [],
   "source": [
    "test_data = pd.read_csv('test.csv')\n",
    "test_data"
   ]
  },
  {
   "cell_type": "code",
   "execution_count": null,
   "id": "3f8cb94f",
   "metadata": {},
   "outputs": [],
   "source": [
    "test_data.info()"
   ]
  },
  {
   "cell_type": "code",
   "execution_count": null,
   "id": "f2563e64",
   "metadata": {},
   "outputs": [],
   "source": [
    "ide = test_data['Id']"
   ]
  },
  {
   "cell_type": "code",
   "execution_count": null,
   "id": "3e0e0947",
   "metadata": {},
   "outputs": [],
   "source": [
    "dict_types = dict(test_data.dtypes)\n",
    "dict_types\n",
    "continous = []\n",
    "count = []\n",
    "categorical = []\n",
    "for name,type in dict_types.items():\n",
    "    if type == str('float64'):\n",
    "        continous.append(name)\n",
    "    elif type == str('int64'):\n",
    "        count.append(name)\n",
    "    else:\n",
    "        categorical.append(name)\n",
    "print('The Continous variables are:  ',continous)\n",
    "print('\\nThe Count variables are:  ',count)\n",
    "print('\\nThe Categorical variables are:  ',categorical)\n",
    "print(len(continous),len(count),len(categorical))\n"
   ]
  },
  {
   "cell_type": "code",
   "execution_count": null,
   "id": "2fd8188f",
   "metadata": {},
   "outputs": [],
   "source": [
    "numerical_data = test_data.drop(categorical,axis =1)\n",
    "numerical_data"
   ]
  },
  {
   "cell_type": "code",
   "execution_count": null,
   "id": "5b956931",
   "metadata": {},
   "outputs": [],
   "source": [
    "numerical_data.drop('Id',axis =1,inplace = True)\n",
    "numerical_data.corr()"
   ]
  },
  {
   "cell_type": "code",
   "execution_count": null,
   "id": "8380508b",
   "metadata": {},
   "outputs": [],
   "source": [
    "test_data.drop('Fence',axis = 1 ,inplace = True)\n",
    "test_data.drop('PoolQC',axis = 1 ,inplace = True)\n",
    "test_data.drop('MiscFeature',axis = 1 ,inplace = True)\n",
    "test_data.drop('Alley',axis = 1 ,inplace = True)\n",
    "test_data.drop('Id',axis =1,inplace = True)"
   ]
  },
  {
   "cell_type": "code",
   "execution_count": null,
   "id": "6f5a808c",
   "metadata": {},
   "outputs": [],
   "source": [
    "test_data['LotFrontage'].fillna(test_data['LotFrontage'].mean(),inplace = True)\n",
    "test_data['MasVnrArea'].fillna(test_data['MasVnrArea'].mean(),inplace = True)\n",
    "test_data['GarageYrBlt'].fillna(test_data['GarageYrBlt'].mean(),inplace = True)"
   ]
  },
  {
   "cell_type": "code",
   "execution_count": null,
   "id": "824f718d",
   "metadata": {},
   "outputs": [],
   "source": [
    "test_data['BsmtQual'].fillna(test_data['BsmtQual'].mode()[0],inplace = True)    \n",
    "test_data['BsmtCond'].fillna(test_data['BsmtCond'].mode()[0],inplace = True) \n",
    "test_data['BsmtExposure'].fillna(test_data['BsmtExposure'].mode()[0],inplace = True)\n",
    "test_data['BsmtFinType1'].fillna(test_data['BsmtFinType1'].mode()[0],inplace = True)\n",
    "test_data['BsmtFinType2'].fillna(test_data['BsmtFinType2'].mode()[0],inplace = True)\n",
    "test_data['MasVnrType'].fillna(test_data['MasVnrType'].mode()[0],inplace = True)\n",
    "test_data['GarageType'].fillna(test_data['GarageType'].mode()[0],inplace = True)\n",
    "test_data['GarageFinish'].fillna(test_data['GarageFinish'].mode()[0],inplace = True)       \n",
    "test_data['GarageQual'].fillna(test_data['GarageQual'].mode()[0],inplace = True)       \n",
    "test_data['GarageCond'].fillna(test_data['GarageCond'].mode()[0],inplace = True)\n",
    "test_data['Electrical'].fillna(test_data['Electrical'].mode()[0],inplace = True)\n",
    "test_data['Utilities'].fillna(test_data['Utilities'].mode()[0],inplace = True)\n",
    "test_data['MSZoning'].fillna(test_data['MSZoning'].mode()[0],inplace = True)\n",
    "test_data['SaleType'].fillna(test_data['SaleType'].mode()[0],inplace = True)\n",
    "test_data['Exterior1st'].fillna(test_data['Exterior1st'].mode()[0],inplace = True)\n",
    "test_data['Exterior2nd'].fillna(test_data['Exterior2nd'].mode()[0],inplace = True)\n",
    "test_data['BsmtFinSF1'].fillna(test_data['BsmtFinSF1'].mode()[0],inplace = True)\n",
    "test_data['BsmtFinSF2'].fillna(test_data['BsmtFinSF2'].mode()[0],inplace = True)\n",
    "test_data['BsmtUnfSF'].fillna(test_data['BsmtUnfSF'].mode()[0],inplace = True)\n",
    "test_data['TotalBsmtSF'].fillna(test_data['TotalBsmtSF'].mode()[0],inplace = True)\n",
    "test_data['BsmtFullBath'].fillna(test_data['BsmtFullBath'].mode()[0],inplace = True)\n",
    "test_data['BsmtHalfBath'].fillna(test_data['BsmtHalfBath'].mode()[0],inplace = True)\n",
    "test_data['KitchenQual'].fillna(test_data['KitchenQual'].mode()[0],inplace = True)\n",
    "test_data['Functional'].fillna(test_data['Functional'].mode()[0],inplace = True)\n",
    "test_data['GarageCars'].fillna(test_data['GarageCars'].mode()[0],inplace = True)\n",
    "test_data['GarageArea'].fillna(test_data['GarageArea'].mode()[0],inplace = True)\n",
    "test_data['FireplaceQu'].fillna(test_data['FireplaceQu'].mode()[0],inplace = True)"
   ]
  },
  {
   "cell_type": "code",
   "execution_count": null,
   "id": "3342ece0",
   "metadata": {},
   "outputs": [],
   "source": [
    "dict_types = dict(test_data.dtypes)\n",
    "dict_types\n",
    "continous = []\n",
    "count = []\n",
    "categorical = []\n",
    "for name,type in dict_types.items():\n",
    "    if type == str('float64'):\n",
    "        continous.append(name)\n",
    "    elif type == str('int64'):\n",
    "        count.append(name)\n",
    "    else:\n",
    "        categorical.append(name)\n",
    "print('The Continous variables are:  ',continous)\n",
    "print('\\nThe Count variables are:  ',count)\n",
    "print('\\nThe Categorical variables are:  ',categorical)\n",
    "print(len(continous),len(count),len(categorical))"
   ]
  },
  {
   "cell_type": "code",
   "execution_count": null,
   "id": "1372ff74",
   "metadata": {
    "scrolled": true
   },
   "outputs": [],
   "source": [
    "from sklearn.preprocessing import OneHotEncoder\n",
    "enc = OneHotEncoder(drop='first')\n",
    "cat = enc.fit_transform(test_data[categorical])\n",
    "test_data.drop(categorical,axis=1,inplace = True)\n",
    "cat_df = pd.DataFrame(cat.toarray(), columns=enc.get_feature_names_out(categorical))\n",
    "test_data = pd.concat([test_data, cat_df], axis='columns')\n",
    "\n",
    "# In the test some of the categorical data is missing that data is present is train data but not there in test data.\n",
    "# So it is problem to transform the data so that is reason we have to identify them and put '0'. if we zero if it is\n",
    "# present in train but not in test we can keep them without any problem\n",
    "missing_features = [\n",
    "    'Utilities_NoSeWa',\n",
    "    'Condition2_RRAe',\n",
    "    'Condition2_RRAn',\n",
    "    'Condition2_RRNn',\n",
    "    'HouseStyle_2.5Fin',\n",
    "    'RoofMatl_CompShg',\n",
    "    'RoofMatl_Membran',\n",
    "    'RoofMatl_Metal',\n",
    "    'RoofMatl_Roll',\n",
    "    'Exterior1st_ImStucc',\n",
    "    'Exterior1st_Stone',\n",
    "    'Exterior2nd_Other',\n",
    "    'Heating_GasA',\n",
    "    'Heating_OthW',\n",
    "    'Electrical_Mix',\n",
    "    'GarageQual_Fa'\n",
    "]\n",
    "\n",
    "\n",
    "num_rows = 1459\n",
    "\n",
    "# Create a DataFrame with all missing features set to 0\n",
    "missing_features_df = pd.DataFrame(np.zeros((num_rows, len(missing_features))), columns=missing_features)\n",
    "\n",
    "# Concatenate the missing features DataFrame with the existing test_data\n",
    "test1_data = pd.concat([test_data, missing_features_df], axis=1)\n",
    "test1_data\n",
    "final_feature_list = list(data.columns)\n",
    "\n",
    "# Reorder columns to match final feature list\n",
    "test1_data = test1_data.reindex(columns=final_feature_list)\n",
    "test1_data.drop('SalePrice',axis=1,inplace = True)"
   ]
  },
  {
   "cell_type": "code",
   "execution_count": null,
   "id": "ea74930e",
   "metadata": {},
   "outputs": [],
   "source": [
    "X = test1_data\n",
    "X"
   ]
  },
  {
   "cell_type": "code",
   "execution_count": null,
   "id": "d94b8dc1",
   "metadata": {},
   "outputs": [],
   "source": [
    "X_test = sc_model.transform(X)"
   ]
  },
  {
   "cell_type": "code",
   "execution_count": null,
   "id": "ff381536",
   "metadata": {},
   "outputs": [],
   "source": [
    "X_test_pca = pca_model.transform(X_test)"
   ]
  },
  {
   "cell_type": "code",
   "execution_count": null,
   "id": "f66e5f69",
   "metadata": {},
   "outputs": [],
   "source": [
    "X_test_pca.shape"
   ]
  },
  {
   "cell_type": "code",
   "execution_count": null,
   "id": "7c4a9cc9",
   "metadata": {},
   "outputs": [],
   "source": [
    "# Assuming testpred contains the predicted values\n",
    "\n",
    "# The Final Model is Ridge Regression\n",
    "testpred = ridge_model.predict(X_test_pca)\n",
    "\n",
    "# Convert the predicted values to a DataFrame with IDE numbers as the index\n",
    "pred_df = pd.DataFrame(testpred, columns=['SalePrice'], index=ide)\n",
    "\n",
    "# Save the DataFrame to a CSV file\n",
    "pred_df.to_csv('predicted_sale_price.csv')"
   ]
  },
  {
   "cell_type": "code",
   "execution_count": null,
   "id": "d096f4c6",
   "metadata": {},
   "outputs": [],
   "source": [
    "data_stored = pd.read_csv('predicted_sale_price.csv')\n",
    "data_stored"
   ]
  },
  {
   "cell_type": "code",
   "execution_count": null,
   "id": "f20ea3b2",
   "metadata": {},
   "outputs": [],
   "source": []
  }
 ],
 "metadata": {
  "kernelspec": {
   "display_name": "Python 3 (ipykernel)",
   "language": "python",
   "name": "python3"
  },
  "language_info": {
   "codemirror_mode": {
    "name": "ipython",
    "version": 3
   },
   "file_extension": ".py",
   "mimetype": "text/x-python",
   "name": "python",
   "nbconvert_exporter": "python",
   "pygments_lexer": "ipython3",
   "version": "3.11.4"
  }
 },
 "nbformat": 4,
 "nbformat_minor": 5
}
